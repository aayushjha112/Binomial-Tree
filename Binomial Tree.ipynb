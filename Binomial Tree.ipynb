{
 "cells": [
  {
   "cell_type": "code",
   "execution_count": 1,
   "id": "ec419bfd",
   "metadata": {},
   "outputs": [],
   "source": [
    "import yfinance as yf\n",
    "import pandas as pd\n",
    "import numpy as np\n",
    "import matplotlib.pyplot as plt\n",
    "from datetime import datetime"
   ]
  },
  {
   "cell_type": "code",
   "execution_count": 31,
   "id": "c6cdc015",
   "metadata": {},
   "outputs": [
    {
     "name": "stdout",
     "output_type": "stream",
     "text": [
      "Calls:\n",
      "         contractSymbol             lastTradeDate  strike  lastPrice    bid  \\\n",
      "0  AAPL250627C00110000 2025-05-23 18:20:54+00:00   110.0      85.80  85.40   \n",
      "1  AAPL250627C00140000 2025-05-23 19:26:29+00:00   140.0      56.29  55.85   \n",
      "2  AAPL250627C00150000 2025-05-23 19:26:06+00:00   150.0      46.75  46.10   \n",
      "3  AAPL250627C00165000 2025-05-23 15:32:16+00:00   165.0      33.52  31.90   \n",
      "4  AAPL250627C00170000 2025-05-23 19:01:45+00:00   170.0      27.76  27.40   \n",
      "\n",
      "     ask     change  percentChange  volume  openInterest  impliedVolatility  \\\n",
      "0  86.60 -10.849998     -11.226071     1.0             7           1.063481   \n",
      "1  56.95  56.290000            NaN  7171.0             0           0.735842   \n",
      "2  47.20  -7.310001     -13.522016    11.0            34           0.642093   \n",
      "3  32.40 -14.660000     -30.427563     5.0             1           0.501470   \n",
      "4  27.80  -6.400000     -18.735363    13.0             4           0.484991   \n",
      "\n",
      "   inTheMoney contractSize currency  \n",
      "0        True      REGULAR      USD  \n",
      "1        True      REGULAR      USD  \n",
      "2        True      REGULAR      USD  \n",
      "3        True      REGULAR      USD  \n",
      "4        True      REGULAR      USD  \n",
      "Puts:\n",
      "          contractSymbol             lastTradeDate  strike  lastPrice    bid  \\\n",
      "22  AAPL250627P00225000 2025-05-23 17:45:39+00:00   225.0      29.60  29.45   \n",
      "23  AAPL250627P00230000 2025-05-23 18:17:38+00:00   230.0      33.95  33.90   \n",
      "24  AAPL250627P00235000 2025-05-16 17:27:09+00:00   235.0      24.05  39.00   \n",
      "25  AAPL250627P00245000 2025-05-14 17:05:38+00:00   245.0      33.50  48.75   \n",
      "26  AAPL250627P00250000 2025-05-13 14:31:00+00:00   250.0      38.70  53.90   \n",
      "\n",
      "      ask  change  percentChange  volume  openInterest  impliedVolatility  \\\n",
      "22  30.30     5.1      20.816328     8.0            17           0.308601   \n",
      "23  35.55     6.0      21.466906     2.0            36           0.374030   \n",
      "24  40.50     0.0       0.000000     5.0             1           0.404303   \n",
      "25  50.55     0.0       0.000000     NaN             0           0.478033   \n",
      "26  55.50     0.0       0.000000     NaN             0           0.503423   \n",
      "\n",
      "    inTheMoney contractSize currency  \n",
      "22        True      REGULAR      USD  \n",
      "23        True      REGULAR      USD  \n",
      "24        True      REGULAR      USD  \n",
      "25        True      REGULAR      USD  \n",
      "26        True      REGULAR      USD  \n"
     ]
    }
   ],
   "source": [
    "ticker = yf.Ticker(\"AAPL\")\n",
    "expiration_dates = ticker.options\n",
    "exp_date = expiration_dates[4]  #1 month expiry\n",
    "option_chain = ticker.option_chain(exp_date)\n",
    "calls = option_chain.calls\n",
    "puts = option_chain.puts\n",
    "print(\"Calls:\\n\", calls.head())\n",
    "print(\"Puts:\\n\", puts.tail())"
   ]
  },
  {
   "cell_type": "code",
   "execution_count": 44,
   "id": "c20d2670",
   "metadata": {},
   "outputs": [
    {
     "name": "stdout",
     "output_type": "stream",
     "text": [
      "Chosen Call Contract: AAPL250627C00190000 \t Strike: 190.0 \t Price: 11.85\n",
      "Chosen Put Contract: AAPL250627P00200000 \t Strike: 200.0 \t Price: 10.02\n"
     ]
    }
   ],
   "source": [
    "#Contracts are chosen whose strikes are closer to current spot \n",
    "print(f'Chosen Call Contract: {calls['contractSymbol'].iloc[-25]} \\t Strike: {calls['strike'].iloc[-25]} \\t Price: {calls['lastPrice'].iloc[-25]}')\n",
    "print(f'Chosen Put Contract: {puts['contractSymbol'].iloc[-10]} \\t Strike: {puts['strike'].iloc[-10]} \\t Price: {puts['lastPrice'].iloc[-10]}')\n",
    "call_strike=int(calls['strike'].iloc[-25])\n",
    "put_strike=int(puts['strike'].iloc[-10])"
   ]
  },
  {
   "cell_type": "code",
   "execution_count": 45,
   "id": "040a97df",
   "metadata": {},
   "outputs": [
    {
     "name": "stderr",
     "output_type": "stream",
     "text": [
      "[*********************100%***********************]  1 of 1 completed\n"
     ]
    },
    {
     "data": {
      "text/html": [
       "<div>\n",
       "<style scoped>\n",
       "    .dataframe tbody tr th:only-of-type {\n",
       "        vertical-align: middle;\n",
       "    }\n",
       "\n",
       "    .dataframe tbody tr th {\n",
       "        vertical-align: top;\n",
       "    }\n",
       "\n",
       "    .dataframe thead tr th {\n",
       "        text-align: left;\n",
       "    }\n",
       "\n",
       "    .dataframe thead tr:last-of-type th {\n",
       "        text-align: right;\n",
       "    }\n",
       "</style>\n",
       "<table border=\"1\" class=\"dataframe\">\n",
       "  <thead>\n",
       "    <tr>\n",
       "      <th>Price</th>\n",
       "      <th>Adj Close</th>\n",
       "      <th>Close</th>\n",
       "      <th>High</th>\n",
       "      <th>Low</th>\n",
       "      <th>Open</th>\n",
       "      <th>Volume</th>\n",
       "    </tr>\n",
       "    <tr>\n",
       "      <th>Ticker</th>\n",
       "      <th>AAPL</th>\n",
       "      <th>AAPL</th>\n",
       "      <th>AAPL</th>\n",
       "      <th>AAPL</th>\n",
       "      <th>AAPL</th>\n",
       "      <th>AAPL</th>\n",
       "    </tr>\n",
       "    <tr>\n",
       "      <th>Date</th>\n",
       "      <th></th>\n",
       "      <th></th>\n",
       "      <th></th>\n",
       "      <th></th>\n",
       "      <th></th>\n",
       "      <th></th>\n",
       "    </tr>\n",
       "  </thead>\n",
       "  <tbody>\n",
       "    <tr>\n",
       "      <th>2024-05-24</th>\n",
       "      <td>189.095657</td>\n",
       "      <td>189.979996</td>\n",
       "      <td>190.580002</td>\n",
       "      <td>188.039993</td>\n",
       "      <td>188.820007</td>\n",
       "      <td>36294600</td>\n",
       "    </tr>\n",
       "    <tr>\n",
       "      <th>2024-05-28</th>\n",
       "      <td>189.105621</td>\n",
       "      <td>189.990005</td>\n",
       "      <td>193.000000</td>\n",
       "      <td>189.100006</td>\n",
       "      <td>191.509995</td>\n",
       "      <td>52280100</td>\n",
       "    </tr>\n",
       "    <tr>\n",
       "      <th>2024-05-29</th>\n",
       "      <td>189.404221</td>\n",
       "      <td>190.289993</td>\n",
       "      <td>192.250000</td>\n",
       "      <td>189.509995</td>\n",
       "      <td>189.610001</td>\n",
       "      <td>53068000</td>\n",
       "    </tr>\n",
       "    <tr>\n",
       "      <th>2024-05-30</th>\n",
       "      <td>190.399567</td>\n",
       "      <td>191.289993</td>\n",
       "      <td>192.179993</td>\n",
       "      <td>190.630005</td>\n",
       "      <td>190.759995</td>\n",
       "      <td>49947900</td>\n",
       "    </tr>\n",
       "    <tr>\n",
       "      <th>2024-05-31</th>\n",
       "      <td>191.355103</td>\n",
       "      <td>192.250000</td>\n",
       "      <td>192.570007</td>\n",
       "      <td>189.910004</td>\n",
       "      <td>191.440002</td>\n",
       "      <td>75158300</td>\n",
       "    </tr>\n",
       "  </tbody>\n",
       "</table>\n",
       "</div>"
      ],
      "text/plain": [
       "Price        Adj Close       Close        High         Low        Open  \\\n",
       "Ticker            AAPL        AAPL        AAPL        AAPL        AAPL   \n",
       "Date                                                                     \n",
       "2024-05-24  189.095657  189.979996  190.580002  188.039993  188.820007   \n",
       "2024-05-28  189.105621  189.990005  193.000000  189.100006  191.509995   \n",
       "2024-05-29  189.404221  190.289993  192.250000  189.509995  189.610001   \n",
       "2024-05-30  190.399567  191.289993  192.179993  190.630005  190.759995   \n",
       "2024-05-31  191.355103  192.250000  192.570007  189.910004  191.440002   \n",
       "\n",
       "Price         Volume  \n",
       "Ticker          AAPL  \n",
       "Date                  \n",
       "2024-05-24  36294600  \n",
       "2024-05-28  52280100  \n",
       "2024-05-29  53068000  \n",
       "2024-05-30  49947900  \n",
       "2024-05-31  75158300  "
      ]
     },
     "execution_count": 45,
     "metadata": {},
     "output_type": "execute_result"
    }
   ],
   "source": [
    "df=yf.download('AAPL',start='2024-05-24',end='2025-05-24',auto_adjust=False)\n",
    "df=df.reset_index()\n",
    "df['Date']=pd.to_datetime(df['Date'])\n",
    "df=df.set_index('Date')\n",
    "df.head()"
   ]
  },
  {
   "cell_type": "code",
   "execution_count": 46,
   "id": "eedc21a1",
   "metadata": {},
   "outputs": [
    {
     "data": {
      "text/html": [
       "<div>\n",
       "<style scoped>\n",
       "    .dataframe tbody tr th:only-of-type {\n",
       "        vertical-align: middle;\n",
       "    }\n",
       "\n",
       "    .dataframe tbody tr th {\n",
       "        vertical-align: top;\n",
       "    }\n",
       "\n",
       "    .dataframe thead tr th {\n",
       "        text-align: left;\n",
       "    }\n",
       "\n",
       "    .dataframe thead tr:last-of-type th {\n",
       "        text-align: right;\n",
       "    }\n",
       "</style>\n",
       "<table border=\"1\" class=\"dataframe\">\n",
       "  <thead>\n",
       "    <tr>\n",
       "      <th>Price</th>\n",
       "      <th>Adj Close</th>\n",
       "      <th>Close</th>\n",
       "      <th>High</th>\n",
       "      <th>Low</th>\n",
       "      <th>Open</th>\n",
       "      <th>Volume</th>\n",
       "      <th>Returns</th>\n",
       "    </tr>\n",
       "    <tr>\n",
       "      <th>Ticker</th>\n",
       "      <th>AAPL</th>\n",
       "      <th>AAPL</th>\n",
       "      <th>AAPL</th>\n",
       "      <th>AAPL</th>\n",
       "      <th>AAPL</th>\n",
       "      <th>AAPL</th>\n",
       "      <th></th>\n",
       "    </tr>\n",
       "    <tr>\n",
       "      <th>Date</th>\n",
       "      <th></th>\n",
       "      <th></th>\n",
       "      <th></th>\n",
       "      <th></th>\n",
       "      <th></th>\n",
       "      <th></th>\n",
       "      <th></th>\n",
       "    </tr>\n",
       "  </thead>\n",
       "  <tbody>\n",
       "    <tr>\n",
       "      <th>2024-05-28</th>\n",
       "      <td>189.105621</td>\n",
       "      <td>189.990005</td>\n",
       "      <td>193.000000</td>\n",
       "      <td>189.100006</td>\n",
       "      <td>191.509995</td>\n",
       "      <td>52280100</td>\n",
       "      <td>0.000053</td>\n",
       "    </tr>\n",
       "    <tr>\n",
       "      <th>2024-05-29</th>\n",
       "      <td>189.404221</td>\n",
       "      <td>190.289993</td>\n",
       "      <td>192.250000</td>\n",
       "      <td>189.509995</td>\n",
       "      <td>189.610001</td>\n",
       "      <td>53068000</td>\n",
       "      <td>0.001579</td>\n",
       "    </tr>\n",
       "    <tr>\n",
       "      <th>2024-05-30</th>\n",
       "      <td>190.399567</td>\n",
       "      <td>191.289993</td>\n",
       "      <td>192.179993</td>\n",
       "      <td>190.630005</td>\n",
       "      <td>190.759995</td>\n",
       "      <td>49947900</td>\n",
       "      <td>0.005255</td>\n",
       "    </tr>\n",
       "    <tr>\n",
       "      <th>2024-05-31</th>\n",
       "      <td>191.355103</td>\n",
       "      <td>192.250000</td>\n",
       "      <td>192.570007</td>\n",
       "      <td>189.910004</td>\n",
       "      <td>191.440002</td>\n",
       "      <td>75158300</td>\n",
       "      <td>0.005019</td>\n",
       "    </tr>\n",
       "    <tr>\n",
       "      <th>2024-06-03</th>\n",
       "      <td>193.126816</td>\n",
       "      <td>194.029999</td>\n",
       "      <td>194.990005</td>\n",
       "      <td>192.520004</td>\n",
       "      <td>192.899994</td>\n",
       "      <td>50080500</td>\n",
       "      <td>0.009259</td>\n",
       "    </tr>\n",
       "  </tbody>\n",
       "</table>\n",
       "</div>"
      ],
      "text/plain": [
       "Price        Adj Close       Close        High         Low        Open  \\\n",
       "Ticker            AAPL        AAPL        AAPL        AAPL        AAPL   \n",
       "Date                                                                     \n",
       "2024-05-28  189.105621  189.990005  193.000000  189.100006  191.509995   \n",
       "2024-05-29  189.404221  190.289993  192.250000  189.509995  189.610001   \n",
       "2024-05-30  190.399567  191.289993  192.179993  190.630005  190.759995   \n",
       "2024-05-31  191.355103  192.250000  192.570007  189.910004  191.440002   \n",
       "2024-06-03  193.126816  194.029999  194.990005  192.520004  192.899994   \n",
       "\n",
       "Price         Volume   Returns  \n",
       "Ticker          AAPL            \n",
       "Date                            \n",
       "2024-05-28  52280100  0.000053  \n",
       "2024-05-29  53068000  0.001579  \n",
       "2024-05-30  49947900  0.005255  \n",
       "2024-05-31  75158300  0.005019  \n",
       "2024-06-03  50080500  0.009259  "
      ]
     },
     "execution_count": 46,
     "metadata": {},
     "output_type": "execute_result"
    }
   ],
   "source": [
    "df['Returns']=df['Adj Close']/df['Adj Close'].shift(1) - 1\n",
    "df = df.drop(labels='2024-05-24')\n",
    "df.head()"
   ]
  },
  {
   "cell_type": "code",
   "execution_count": null,
   "id": "d53ae9c2",
   "metadata": {},
   "outputs": [],
   "source": [
    "temp_spot=df['Adj Close'].iloc[-1]     #Current Stock Price\n",
    "spot=float(temp_spot.iloc[0])\n",
    "stdev=(df['Returns'].std())*(252**0.5)  #Standard deviation of returns"
   ]
  },
  {
   "cell_type": "code",
   "execution_count": 52,
   "id": "a869601c",
   "metadata": {},
   "outputs": [],
   "source": [
    "steps=50  #Steps of Binomial Tree\n",
    "T=26/252     #Time to Expiry (years)\n",
    "r=0.0436    #1 month US Treasury Bill Rate (Risk free rate)\n",
    "dt=T/steps  #Time Steps of binomial tree"
   ]
  },
  {
   "cell_type": "code",
   "execution_count": 53,
   "id": "4bf62560",
   "metadata": {},
   "outputs": [],
   "source": [
    "u=float(np.exp(stdev*np.sqrt(dt)) )    #Up movement factor\n",
    "d=1/u                   #Down movement factor\n",
    "p=float((np.exp(r*dt)-d)/(u-d))   #Risk-neutral probability of up move\n",
    "q=1-p           #Risk-neutral probability of down move"
   ]
  },
  {
   "cell_type": "code",
   "execution_count": 66,
   "id": "36cb4423",
   "metadata": {},
   "outputs": [
    {
     "data": {
      "image/png": "[encoded data removed]",
      "text/plain": [
       "<Figure size 1200x400 with 1 Axes>"
      ]
     },
     "metadata": {},
     "output_type": "display_data"
    }
   ],
   "source": [
    "#Probable final spot prices at expiry\n",
    "final_price=[]\n",
    "for i in range(51):\n",
    "    final_price.append(spot*(u**(steps-i))*(d**i))\n",
    "#Plot expected spot prices \n",
    "plt.figure(figsize=(12, 4))\n",
    "plt.hist(final_price,bins=40,edgecolor='yellow')\n",
    "plt.xlabel(\"Price\")\n",
    "plt.ylabel('Paths Ending At Given Price')\n",
    "plt.title('Probable Spot Prices At Expiry')\n",
    "plt.show()"
   ]
  },
  {
   "cell_type": "code",
   "execution_count": 64,
   "id": "8cc0b78a",
   "metadata": {},
   "outputs": [
    {
     "data": {
      "image/png": "[encoded data removed]",
      "text/plain": [
       "<Figure size 640x480 with 1 Axes>"
      ]
     },
     "metadata": {},
     "output_type": "display_data"
    }
   ],
   "source": [
    "#Payoff at expiry for call option\n",
    "call_payoff=[]\n",
    "for i in range(len(final_price)):\n",
    "    call_payoff.append(max((final_price[i]-call_strike),0))\n",
    "#Payoff at expiry for put option\n",
    "put_payoff=[]\n",
    "for i in range(len(final_price)):\n",
    "    put_payoff.append(max((put_strike-final_price[i]),0))\n",
    "#Plot Payoffs\n",
    "x = np.arange(0, steps+1)   #Number of up-moves\n",
    "plt.plot(x,call_payoff,label='Call',color='blue')\n",
    "plt.plot(x,put_payoff,label='Put',color='red')\n",
    "plt.title('Option Payoff')\n",
    "plt.xlabel('Number of Up-Moves')\n",
    "plt.ylabel('Payoff')\n",
    "plt.legend()\n",
    "plt.show()"
   ]
  },
  {
   "cell_type": "code",
   "execution_count": null,
   "id": "722af482",
   "metadata": {},
   "outputs": [
    {
     "name": "stdout",
     "output_type": "stream",
     "text": [
      "Fair Call Price: 11.57\n",
      "Fair Put Price: 10.44\n"
     ]
    }
   ],
   "source": [
    "#Back Propogation (Call Option)\n",
    "bp_call=[]\n",
    "for i in range(50):\n",
    "    bp_call.append([])\n",
    "for i in range(len(call_payoff)-1):\n",
    "    bp_call[0].append(((p*call_payoff[i])+(q*call_payoff[i+1]))*2.718**(-r*dt))\n",
    "for i in range(1,50):\n",
    "    for j in range(len(bp_call[i-1])-1):\n",
    "        bp_call[i].append(((p*bp_call[i-1][j])+(q*bp_call[i-1][j+1]))*2.718**(-r*dt))\n",
    "print(f'Fair Call Price: {round(bp_call[-1][0],2)}')\n",
    "#Back Propogation (Put Option)\n",
    "bp_put=[]\n",
    "for i in range(50):\n",
    "    bp_put.append([])\n",
    "for i in range(len(put_payoff)-1):\n",
    "    bp_put[0].append(((p*put_payoff[i])+(q*put_payoff[i+1]))*2.718**(-r*dt))\n",
    "for i in range(1,50):\n",
    "    for j in range(len(bp_put[i-1])-1):\n",
    "        bp_put[i].append(((p*bp_put[i-1][j])+(q*bp_put[i-1][j+1]))*2.718**(-r*dt))\n",
    "print(f'Fair Put Price: {round(bp_put[-1][0],2)}')"
   ]
  },
  {
   "cell_type": "markdown",
   "id": "d721b321",
   "metadata": {},
   "source": [
    "Conclusion: Call option is overpriced. Put option is underpriced"
   ]
  }
 ],
 "metadata": {
  "kernelspec": {
   "display_name": "Python 3",
   "language": "python",
   "name": "python3"
  },
  "language_info": {
   "codemirror_mode": {
    "name": "ipython",
    "version": 3
   },
   "file_extension": ".py",
   "mimetype": "text/x-python",
   "name": "python",
   "nbconvert_exporter": "python",
   "pygments_lexer": "ipython3",
   "version": "3.13.2"
  }
 },
 "nbformat": 4,
 "nbformat_minor": 5
}
